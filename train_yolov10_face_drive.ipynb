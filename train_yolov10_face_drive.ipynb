{
 "cells": [
  {
   "cell_type": "code",
   "execution_count": null,
   "id": "16eafcbb",
   "metadata": {},
   "outputs": [],
   "source": [
    "# Train YOLOv10 to Recognize 5 People Using Folder Names as Labels (From Google Drive)"
   ]
  },
  {
   "cell_type": "code",
   "execution_count": null,
   "id": "bfc7e5d7",
   "metadata": {},
   "outputs": [],
   "source": [
    "# 1. Mount Google Drive\n",
    "from google.colab import drive\n",
    "drive.mount('/content/drive')"
   ]
  },
  {
   "cell_type": "code",
   "execution_count": null,
   "id": "d98e212d",
   "metadata": {},
   "outputs": [],
   "source": [
    "# 2. Copy data from Google Drive to local Colab workspace\n",
    "!cp -r /content/drive/MyDrive/train_yolov10 /content/face_data_raw"
   ]
  },
  {
   "cell_type": "code",
   "execution_count": null,
   "id": "a8d30b21",
   "metadata": {},
   "outputs": [],
   "source": [
    "# 3. Install Ultralytics\n",
    "!pip install ultralytics -q"
   ]
  },
  {
   "cell_type": "code",
   "execution_count": null,
   "id": "d137ce6c",
   "metadata": {},
   "outputs": [],
   "source": [
    "# 4. Import Libraries\n",
    "import os\n",
    "from glob import glob\n",
    "from PIL import Image\n",
    "from pathlib import Path\n",
    "from sklearn.model_selection import train_test_split"
   ]
  },
  {
   "cell_type": "code",
   "execution_count": null,
   "id": "5fa23bd5",
   "metadata": {},
   "outputs": [],
   "source": [
    "# 5. Set Paths\n",
    "data_raw = Path('/content/face_data_raw')  # your input folder\n",
    "output_dir = Path('/content/datasets/face_id_5people')\n",
    "img_train_dir = output_dir / 'images/train'\n",
    "img_val_dir = output_dir / 'images/val'\n",
    "lbl_train_dir = output_dir / 'labels/train'\n",
    "lbl_val_dir = output_dir / 'labels/val'"
   ]
  },
  {
   "cell_type": "code",
   "execution_count": null,
   "id": "c5206bbe",
   "metadata": {},
   "outputs": [],
   "source": [
    "for d in [img_train_dir, img_val_dir, lbl_train_dir, lbl_val_dir]:\n",
    "    d.mkdir(parents=True, exist_ok=True)"
   ]
  },
  {
   "cell_type": "code",
   "execution_count": null,
   "id": "20c87f40",
   "metadata": {},
   "outputs": [],
   "source": [
    "# 6. Collect image paths and labels\n",
    "all_data = []\n",
    "label_map = {}"
   ]
  },
  {
   "cell_type": "code",
   "execution_count": null,
   "id": "174d585d",
   "metadata": {},
   "outputs": [],
   "source": [
    "for idx, person_dir in enumerate(sorted(data_raw.iterdir())):\n",
    "    if person_dir.is_dir():\n",
    "        label_map[person_dir.name] = idx\n",
    "        for img_path in glob(str(person_dir / '*.jpg')):\n",
    "            all_data.append((img_path, idx))"
   ]
  },
  {
   "cell_type": "code",
   "execution_count": null,
   "id": "e01d85ff",
   "metadata": {},
   "outputs": [],
   "source": [
    "# 7. Train-val split\n",
    "train_data, val_data = train_test_split(all_data, test_size=0.2, stratify=[d[1] for d in all_data], random_state=42)"
   ]
  },
  {
   "cell_type": "code",
   "execution_count": null,
   "id": "69261813",
   "metadata": {},
   "outputs": [],
   "source": [
    "# 8. Save images and labels in YOLO format\n",
    "def process_data(data_list, img_dir, lbl_dir):\n",
    "    for img_path, label in data_list:\n",
    "        img = Image.open(img_path)\n",
    "        w, h = img.size\n",
    "        yolo_label = f\"{label} 0.5 0.5 1.0 1.0\\n\"\n",
    "        img_name = Path(img_path).name\n",
    "        img.save(img_dir / img_name)\n",
    "        with open(lbl_dir / img_name.replace('.jpg', '.txt'), 'w') as f:\n",
    "            f.write(yolo_label)"
   ]
  },
  {
   "cell_type": "code",
   "execution_count": null,
   "id": "d05e7192",
   "metadata": {},
   "outputs": [],
   "source": [
    "process_data(train_data, img_train_dir, lbl_train_dir)\n",
    "process_data(val_data, img_val_dir, lbl_val_dir)"
   ]
  },
  {
   "cell_type": "code",
   "execution_count": null,
   "id": "1bf8bc68",
   "metadata": {},
   "outputs": [],
   "source": [
    "# 9. Create .yaml config file\n",
    "yaml_path = output_dir / 'face5.yaml'\n",
    "names_list = list(label_map.keys())\n",
    "yaml_lines = [\n",
    "    f\"path: {output_dir}\",\n",
    "    \"train: images/train\",\n",
    "    \"val: images/val\",\n",
    "    f\"names: {names_list}\"\n",
    "]\n",
    "with open(yaml_path, 'w') as f:\n",
    "    f.write('\\n'.join(yaml_lines))"
   ]
  },
  {
   "cell_type": "code",
   "execution_count": null,
   "id": "2cd13bc4",
   "metadata": {},
   "outputs": [],
   "source": [
    "# 10. Train YOLOv10n (lightweight)\n",
    "from ultralytics import YOLO\n",
    "model = YOLO('yolov10n.pt')\n",
    "model.train(data=str(yaml_path), epochs=50, imgsz=640, batch=16)"
   ]
  },
  {
   "cell_type": "code",
   "execution_count": null,
   "id": "e6bfcce1",
   "metadata": {},
   "outputs": [],
   "source": [
    "# 11. Copy the model to main directory\n",
    "!cp runs/detect/train/weights/best.pt /content/best_face_yolov10.pt"
   ]
  },
  {
   "cell_type": "code",
   "execution_count": null,
   "id": "85d5bfaf",
   "metadata": {},
   "outputs": [],
   "source": [
    "# 12. (Optional) Predict test image\n",
    "# model.predict(source='path_to_test_image.jpg', conf=0.25, save=True)"
   ]
  }
 ],
 "metadata": {},
 "nbformat": 4,
 "nbformat_minor": 5
}
